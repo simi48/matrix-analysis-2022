{
 "cells": [
  {
   "cell_type": "markdown",
   "id": "6853bdc5-c7dd-4a8a-a7b8-4383f570c879",
   "metadata": {},
   "source": [
    "# Matrix Analysis 2022 - EE312\n",
    "## Week 9 - Eigenvalues\n",
    "[LTS2](https://lts2.epfl.ch)\n",
    "\n",
    "## Important\n",
    "You need to submit *individually* your answers on moodle before the next exercise session (i.e. Monday or Friday depending if you are BA4/BA6). Answers to theoretical questions can be either written in the notebook or submitted separately.\n"
   ]
  },
  {
   "cell_type": "markdown",
   "id": "5ac2c24c-742f-4884-80e4-e70d2b62c493",
   "metadata": {},
   "source": [
    "## 1. RLC circuit\n",
    "Let us consider a serial RLC circuit with a voltage source delivering a tension $v(t)$. A current $i(t)$ goes through the circuit. We denote by $v_R(t)$, $v_L(t)$, $v_C(t)$ the voltages in the circuit.\n",
    "\n",
    "![RLC.png](../exercises/images/RLC.png)\n",
    "\n",
    "Reminder: \n",
    "- $v_L(t) = L\\frac{di(t)}{dt}$\n",
    "- $\\frac{dv_C(t)}{dt} = \\frac{1}{C}i(t)$\n",
    "\n",
    "**1.1** Using Ohm and Kirchoff laws, write the matrix first order differential equation describing the system. You can use $X(t) = \\begin{pmatrix}v_C(t)\\\\i(t)\\end{pmatrix}$."
   ]
  },
  {
   "cell_type": "markdown",
   "id": "a2a56762",
   "metadata": {},
   "source": [
    "Answer:\n",
    "$\\begin{align}\\frac{\\partial}{\\partial t}X & = AX + b\\\\\n",
    "A &= \\begin{pmatrix}\n",
    "    0               &   \\frac{1}{C} \\\\\n",
    "    -\\frac{1}{L}    &   -\\frac{R}{L}\n",
    "\\end{pmatrix} \\\\\n",
    "b &= \\begin{pmatrix}\n",
    "    0 \\\\ \\frac{v(t)}{L}\n",
    "\\end{pmatrix}\n",
    "\\end{align}$"
   ]
  },
  {
   "cell_type": "markdown",
   "id": "76b84274-9242-400f-895a-6ef92cd7eda8",
   "metadata": {},
   "source": [
    "**1.2** What are the eigenvalues of the matrix in the equation you obtained ?"
   ]
  },
  {
   "cell_type": "markdown",
   "id": "f8ee64dd",
   "metadata": {},
   "source": [
    "Answer:\n",
    "\n",
    "$\\lambda^2 +\\frac{\\lambda R}{L} + \\frac{1}{LC}=0$\n",
    "\n",
    "$\\lambda_1 =  \\frac{-\\frac{R}{L} + \\sqrt{(\\frac{R}{L})^2 - \\frac{4}{LC}}}{2}$\n",
    "\n",
    "$\\lambda_2 =  \\frac{-\\frac{R}{L} - \\sqrt{(\\frac{R}{L})^2 - \\frac{4}{LC}}}{2}$"
   ]
  },
  {
   "cell_type": "code",
   "execution_count": null,
   "id": "5d38e1c8-9194-4267-bec9-da5c5202b407",
   "metadata": {},
   "outputs": [],
   "source": []
  },
  {
   "cell_type": "markdown",
   "id": "bb3b203e-8c3d-4229-b4ae-f80f50ecd1f4",
   "metadata": {},
   "source": [
    "**1.3** Assuming $v(t) = 0$ and $X(0) = X_0$, compute $X(t)$"
   ]
  },
  {
   "cell_type": "markdown",
   "id": "07612aa8",
   "metadata": {},
   "source": [
    "Answer:\n",
    "\n",
    "$X(t) = e^{(t-t_0)A}X_0$"
   ]
  },
  {
   "cell_type": "code",
   "execution_count": null,
   "id": "ccd02535-6ffd-4f96-8cec-819da1674fb1",
   "metadata": {},
   "outputs": [],
   "source": []
  },
  {
   "cell_type": "markdown",
   "id": "ba32d70a-12d0-494c-998e-d2f0f5b9ac9b",
   "metadata": {},
   "source": [
    "**1.4** Let us use fixed $L$ and $C$ values. For which values of $R$ do we have real or complex eigenvalues ? Compute the limit value of $R$ for $L=40mH$ and $C=10nF$."
   ]
  },
  {
   "cell_type": "code",
   "execution_count": null,
   "id": "968eb2e6-3e47-4487-8489-4396991769a6",
   "metadata": {},
   "outputs": [],
   "source": [
    "import math\n",
    "L = 40e-3\n",
    "C = 10e-9\n",
    "R_max =  math.sqrt(4*L/C)\n",
    "R_max"
   ]
  },
  {
   "cell_type": "markdown",
   "id": "bd195659-ae7f-4af9-93ef-5813666245e5",
   "metadata": {},
   "source": [
    "**1.5** Using $X_0=\\begin{pmatrix}1.5\\\\ 10^{-3}\\end{pmatrix}$ as initial conditions and (at least) two carefully chosen values of $R$, compute the solutions $v_C(t)$ and $i(t)$ and plot them. Be careful when computing and plotting the solutions, make sure you use the appropriate time range ! (hint: checking the value of the imaginary part of the eigenvalues might help). Discuss the different cases (do not forget the case $R=R_L$). You might use the [expm](https://docs.scipy.org/doc/scipy/reference/generated/scipy.linalg.expm.html) function from scipy to compute a matrix exponential."
   ]
  },
  {
   "cell_type": "code",
   "execution_count": null,
   "id": "cd1b6aca-9f22-4865-95e5-910cda5d394d",
   "metadata": {},
   "outputs": [],
   "source": [
    "import numpy as np\n",
    "import matplotlib.pyplot as plt\n",
    "from scipy.linalg import expm"
   ]
  },
  {
   "cell_type": "code",
   "execution_count": null,
   "id": "3dcc667a-860b-447d-851f-b6bcd762d187",
   "metadata": {},
   "outputs": [],
   "source": [
    "X_0 = np.array([1.5,1e-3])\n",
    "\n",
    "def A(R,L,C):\n",
    "    return np.array([[0, 1/C], [-1/L, -R/L]])\n",
    "def X(t,A):\n",
    "    return expm(t*A)@X_0\n",
    "    \n",
    "    "
   ]
  },
  {
   "cell_type": "code",
   "execution_count": null,
   "id": "be6879da-7aad-4caf-a6e2-8653f62aa422",
   "metadata": {},
   "outputs": [],
   "source": [
    "L = 40e-3\n",
    "C = 1e-8\n",
    "R1 = 400\n",
    "R2 = 10000\n",
    "R_crit = 4000\n",
    "R0 = 0\n",
    "X1 = lambda t:X(t,A(R1,L,C))\n",
    "X2 = lambda t:X(t,A(R2,L,C))\n",
    "X3 = lambda t:X(t,A(R0,L,C))\n",
    "X4 = lambda t:X(t,A(R_crit,L,C))\n",
    "t = np.linspace(0, 1e-3, 1000)\n",
    "plt.plot([X1(q) for q in t])\n"
   ]
  },
  {
   "cell_type": "code",
   "execution_count": null,
   "id": "5e8c2f87-1f00-4406-b636-f54fe17e9e54",
   "metadata": {},
   "outputs": [],
   "source": [
    "plt.plot([X2(q) for q in t]) #over damped"
   ]
  },
  {
   "cell_type": "code",
   "execution_count": null,
   "id": "32690f4e",
   "metadata": {},
   "outputs": [],
   "source": [
    "plt.plot([X3(q) for q in t]) #no damping"
   ]
  },
  {
   "cell_type": "code",
   "execution_count": null,
   "id": "d3d4e751",
   "metadata": {},
   "outputs": [],
   "source": [
    "plt.plot([X4(q) for q in t]) #critical damping"
   ]
  },
  {
   "cell_type": "markdown",
   "id": "65a495d0-caf6-4ce4-9f1a-5f378cb5fe32",
   "metadata": {},
   "source": [
    "## 2. Dynamics of opinion diffusion"
   ]
  },
  {
   "cell_type": "markdown",
   "id": "8657e57d-19a5-4278-9d43-eb56bd1dc44a",
   "metadata": {},
   "source": [
    "Consider the dynamics of opinion diffusion among $N$ people sitting in a ring-shaped structure. Each individual is connected to her two nearest neighbors (i.e., left and right). Initially they have random opinions (represented as random real numbers), but at every time step, each individual changes his opinion depending on the social neighborhood. If we denote by $x_p(k)$ the value of the $p$-th individual at time step $k$, we will consider the following update rule:\n",
    "\n",
    "$x_p(k+1) = (1 - 2\\alpha)x_p(k) + \\alpha(x_{p-1}(k) + x_{p+1}(k))$, $\\alpha$ being a real-valued parameter.\n",
    "\n",
    "Let us denote by $X(k) = \\begin{pmatrix}x_1(k)\\\\x_2(k)\\\\ \\vdots \\\\ x_N(k)\\end{pmatrix}$.\n",
    "\n",
    "**2.1** Write $X(k+1)$ as a function of $X(k)$ and as a function of X(0)."
   ]
  },
  {
   "cell_type": "markdown",
   "id": "843156e7-d6b0-4f09-a40c-70616330cb11",
   "metadata": {},
   "source": [
    "Answer:\n",
    "\n",
    "$X(k+1) = \\begin{pmatrix}\n",
    "1-2\\alpha &\\alpha & 0 &...&0&\\alpha \\\\\n",
    "\\alpha & 1-2\\alpha &\\alpha &0& 0 & ...\\\\\n",
    "0&\\alpha & 1-2\\alpha &\\alpha & 0 & ...\\\\\n",
    "... &...&...&...&...&...\\\\\n",
    "\\alpha& 0 &...&0 &\\alpha&1-2\\alpha\n",
    "\\end{pmatrix}_{N\\times N}X(k)$"
   ]
  },
  {
   "cell_type": "markdown",
   "id": "5ecc62ca-0f48-4264-9123-def987146002",
   "metadata": {},
   "source": [
    "**2.2** Using a vector containing $N$ random values for $X(0)$ implement a function that computes $X(k)$. Make sure you use as few matrix multiplications as possible."
   ]
  },
  {
   "cell_type": "code",
   "execution_count": null,
   "id": "e239dc94-da70-4254-b925-9e44bd5ca344",
   "metadata": {},
   "outputs": [],
   "source": [
    "def update_matrix(N, alpha):\n",
    "    D = np.diag([(1-2*alpha) for _ in range(N)]) + np.diag(\n",
    "        [alpha for _ in range(N-1)], 1) + np.diag([alpha for _ in range(N-1)], -1)\n",
    "    D[0, N-1] = alpha\n",
    "    D[N-1, 0] = alpha\n",
    "    return D \n",
    "\n",
    "def compute_opinions(x0, update_matrix, num_steps):\n",
    "    return np.linalg.matrix_power(update_matrix,num_steps)@x0\n",
    "update_matrix(6,0.2)\n",
    "    "
   ]
  },
  {
   "cell_type": "code",
   "execution_count": null,
   "id": "1dcf3497-7d9a-478a-9684-e339b46ec05e",
   "metadata": {},
   "outputs": [],
   "source": [
    "compute_opinions(0.5*np.ones(6) + 0.2*np.random.rand(6), update_matrix(6, 0.25), 50)"
   ]
  },
  {
   "cell_type": "markdown",
   "id": "767545d0-b113-4726-b7c3-5991162e652f",
   "metadata": {},
   "source": [
    "**2.3** What are the eigenvalues of the matrix of the system ?\n",
    "\n",
    "Hint: This result about circulant matrices might be helpful:\n",
    "\n",
    "A $N\\times N$ circulant matrix $C$ defined by:\n",
    "\n",
    "$C = \\begin{pmatrix}\n",
    "c_1 & c_N & ... & c_3 & c_2\\\\\n",
    "c_2 & c_1 & c_N & ... & c_2\\\\\n",
    "\\vdots & \\vdots & ... & & \\vdots\\\\\n",
    "c_N & c_{N-1} & ... & c_2 & c_1\n",
    "\\end{pmatrix}$\n",
    "\n",
    "has its eigenvalues defined by:\n",
    "\n",
    "$\\lambda_k = c_1 + c_N\\omega^k + c_{N-1}\\omega^{2k} + ... + c_2\\omega^{k(n-1)}, k=0, 1, ..., N-1$ and $\\omega=e^{\\frac{2i\\pi}{N}}$. "
   ]
  },
  {
   "cell_type": "markdown",
   "id": "b92c2486-2c0a-40f1-9b15-d054f979162a",
   "metadata": {},
   "source": [
    "Answer:\n",
    "\n",
    "Our matrix has $c_1 = 1-2\\alpha$, $c_N = c_2 = \\alpha$ and all other values $c_k=0$\n",
    "\n",
    "\n",
    "so \n",
    "\n",
    "$\\begin{align}\n",
    "\\lambda_k &= c_1 +c_N\\omega^k+c_2\\omega^{k(N-1)}\\\\ \n",
    "& = 1-2\\alpha +\\alpha \\left(\\omega^k+\\omega^{k(N-1)}\\right) \\\\\n",
    "& = 1 + \\alpha \\left(-2+e^{\\frac{2i\\pi}{N}k}+e^{\\frac{2i\\pi}{N}  k(N-1)}\\right)\n",
    "\\end{align}$"
   ]
  },
  {
   "cell_type": "markdown",
   "id": "3dc519ea-712a-45bf-be63-ca4160159336",
   "metadata": {},
   "source": [
    "**2.4** Implement a function that returns all opinion values, i.e. a vector $\\begin{pmatrix}X(0)\\\\ X(1)\\\\ X(2)\\\\ \\vdots\\\\ X(p)\\end{pmatrix}$. Plot the evolution of the opinion values. Choose a small value of $N$ (e.g. 5 or 6) and consider $\\alpha\\in[-\\frac{1}{2}, \\frac{1}{2}]$. How many different behaviors can you identify ? How do they relate to the eigenvalues of the update matrix ? "
   ]
  },
  {
   "cell_type": "markdown",
   "id": "9e1831ab-6658-4041-822b-852bfcacf3f8",
   "metadata": {},
   "source": [
    "**Answer**"
   ]
  },
  {
   "cell_type": "code",
   "execution_count": null,
   "id": "9ed1fb45-7f5a-41db-af49-5e7be3c1a2f5",
   "metadata": {},
   "outputs": [],
   "source": [
    "def compute_opinions_evol(x0, update_matrix, num_steps):\n",
    "    X = [x0]\n",
    "    for i in range(num_steps):\n",
    "        X.append(update_matrix@X[-1])\n",
    "    return X"
   ]
  },
  {
   "cell_type": "code",
   "execution_count": null,
   "id": "fcf6e3ba-ddb1-4f85-b52b-77753f2d43d3",
   "metadata": {},
   "outputs": [],
   "source": [
    "evol = compute_opinions_evol(0.5*np.ones(6) + 0.2 *\n",
    "                      np.random.rand(6), update_matrix(6,0.2), 10)\n",
    "                \n",
    "plt.plot(evol)"
   ]
  },
  {
   "cell_type": "code",
   "execution_count": null,
   "id": "2cb535f8",
   "metadata": {},
   "outputs": [],
   "source": [
    "plt.plot(compute_opinions_evol(0.5*np.ones(6) + 0.2 *\n",
    "                               np.random.rand(6), update_matrix(6, 0), 10))"
   ]
  },
  {
   "cell_type": "code",
   "execution_count": null,
   "id": "03150e4d",
   "metadata": {},
   "outputs": [],
   "source": [
    "plt.plot(compute_opinions_evol(0.5*np.ones(6) + 0.2 *\n",
    "                               np.random.rand(6), update_matrix(6, 0.5), 10))"
   ]
  },
  {
   "cell_type": "code",
   "execution_count": null,
   "id": "7b9b8f3c",
   "metadata": {},
   "outputs": [],
   "source": [
    "plt.plot(compute_opinions_evol(0.5*np.ones(6) + 0.2 *\n",
    "                               np.random.rand(6), update_matrix(6, -0.2), 10))"
   ]
  },
  {
   "cell_type": "markdown",
   "id": "87110d93",
   "metadata": {},
   "source": [
    "Answer:\n",
    "\n",
    "There are 4 cases depending on $\\alpha$.\n",
    "\n",
    "if $\\alpha=0$ then the opinions do not change. (Eigenvalues $\\lambda_k=1$, $\\lambda_k \\in \\mathbb{R}$)\n",
    "\n",
    "if $0<\\alpha<\\frac{1}{2}$ then the opinions converge. (Eigenvalues $\\left|\\lambda_k\\right|\\leqslant 1$, $\\lambda_k \\in \\mathbb{C}$)\n",
    "\n",
    "if $\\alpha = \\frac{1}{2}$ then the opinions oscillate (stable) (Eigenbalues $\\left|\\lambda_k\\right| = 1$, $\\lambda_k \\in \\mathbb{C}$).\n",
    "\n",
    "if $\\alpha<0$ then the opinions diverge.(Eigenbalues $\\left|\\lambda_k\\right| \\geqslant 1$, $\\lambda_k \\in \\mathbb{C}$)."
   ]
  },
  {
   "cell_type": "markdown",
   "id": "01a12edb",
   "metadata": {},
   "source": []
  }
 ],
 "metadata": {
  "interpreter": {
   "hash": "916dbcbb3f70747c44a77c7bcd40155683ae19c65e1c03b4aa3499c5328201f1"
  },
  "kernelspec": {
   "display_name": "Python 3.8.10 64-bit",
   "language": "python",
   "name": "python3"
  },
  "language_info": {
   "codemirror_mode": {
    "name": "ipython",
    "version": 3
   },
   "file_extension": ".py",
   "mimetype": "text/x-python",
   "name": "python",
   "nbconvert_exporter": "python",
   "pygments_lexer": "ipython3",
   "version": "3.8.10"
  }
 },
 "nbformat": 4,
 "nbformat_minor": 5
}
