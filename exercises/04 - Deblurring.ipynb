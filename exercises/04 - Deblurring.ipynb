{
 "cells": [
  {
   "cell_type": "markdown",
   "id": "3bd35f0e-fdc3-46ff-86fc-664b0a53a2e9",
   "metadata": {},
   "source": [
    "# Matrix Analysis 2022 - EE312\n",
    "\n",
    "## Week 4 - Image deblurring using right inverse\n",
    "[LTS2](https://lts2.epfl.ch)\n",
    "\n",
    "### Objectives\n",
    "In this week's exercises you will need to use the properties of the four fundamental subspaces, as well as the left and right inverse of a matrix. The right inverse will be applied in an example to recover an image that has been degraded by a blurring operator.\n",
    "\n",
    "\n",
    "## Exercises\n",
    "Exercises are mandatory for BA6 students, optional (but yet highly recommended) for BA4 students.\n",
    "### 1.\n",
    "Let $A \\in \\mathbb{R}^{m \\times n}$ and suppose it has a left-inverse. Prove that $A^T$ has a right-inverse.\n",
    "### 2.\n",
    "Let $A=\\begin{pmatrix}1 & 1 & 1 &0\\\\1 & 2 & 2 & 1\\\\2 & 5 & 5 & 3\\end{pmatrix}$\n",
    "\n",
    "Compute a basis for each of its four fundamental subspaces."
   ]
  },
  {
   "cell_type": "markdown",
   "id": "44bf7882-513e-4c29-9619-96bd357670b0",
   "metadata": {},
   "source": [
    "## Image deblurring \n",
    "### Introduction\n",
    "Since we will need to visualize images, just a brief reminder on how to use matplotlib for this task"
   ]
  },
  {
   "cell_type": "code",
   "execution_count": null,
   "id": "a05d6e95-711e-41ce-bf8a-5b983d8999fd",
   "metadata": {},
   "outputs": [],
   "source": [
    "import numpy as np\n",
    "import matplotlib.pyplot as plt\n",
    "import skimage\n",
    "import skimage.io\n",
    "import os"
   ]
  },
  {
   "cell_type": "markdown",
   "id": "f387c338-7c82-46cf-9950-def341903021",
   "metadata": {},
   "source": [
    "We will use the `imread` function from the `scikit-image` package (pre-installed on noto, make sure to install it if you are using a local environment)"
   ]
  },
  {
   "cell_type": "code",
   "execution_count": null,
   "id": "97017b6f-fc95-4d94-b1f6-f7da6621444f",
   "metadata": {},
   "outputs": [],
   "source": [
    "filename = os.path.join(skimage.data_dir, 'camera.png')\n",
    "camera = skimage.io.imread(filename)"
   ]
  },
  {
   "cell_type": "markdown",
   "id": "6b4b81f7-6867-43b7-9fd5-9478d421db86",
   "metadata": {},
   "source": [
    "Some basic information regarding the contents of `camera`:"
   ]
  },
  {
   "cell_type": "code",
   "execution_count": null,
   "id": "03e539bd-2d68-4240-9d72-ee4ef02b9081",
   "metadata": {},
   "outputs": [],
   "source": [
    "camera.shape"
   ]
  },
  {
   "cell_type": "code",
   "execution_count": null,
   "id": "3b723f81-ebf9-45e5-83a9-6e3d7048586b",
   "metadata": {},
   "outputs": [],
   "source": [
    "camera.dtype"
   ]
  },
  {
   "cell_type": "markdown",
   "id": "f2c5f73f-bfee-47e7-b68d-d364f6478663",
   "metadata": {},
   "source": [
    "The type `uint8` means each value in `camera` is represented using a single byte, and is within $[0, 255]$.\n",
    "\n",
    "Displaying the image is fairly straightforward :"
   ]
  },
  {
   "cell_type": "code",
   "execution_count": null,
   "id": "04ce2927-48e4-41d6-961f-f1a5f0791cc3",
   "metadata": {},
   "outputs": [],
   "source": [
    "plt.imshow(camera, cmap='gray')"
   ]
  },
  {
   "cell_type": "markdown",
   "id": "18174a60-7b66-4ccf-a5f4-43ec56299c0e",
   "metadata": {},
   "source": [
    "The image here is widely used in many image processing scientific publications.\n",
    "\n",
    "The `cmap` parameter specifies the colormap used to display the image. Matplotlib default colormap not being grayscale, passing `cmap='gray'` is needed. You can find [several predefined colormaps](https://matplotlib.org/stable/tutorials/colors/colormaps.html) in Matplotlib. \n",
    "\n",
    "You can also check the images distributed with `scikit-image` on their [github repository](https://github.com/scikit-image/scikit-image/tree/main/skimage/data). Feel free to use another image, or even one of your own."
   ]
  },
  {
   "cell_type": "markdown",
   "id": "e561f807-2504-423f-815c-e024f96bddc6",
   "metadata": {},
   "source": [
    "## 1. Blurring operator\n",
    "\n",
    "In order to efficiently deblur an image, let us design our own blurring operator. Since it will be entirely known, it will be possible to compute its inverse.\n",
    "\n",
    "Let us consider an input vector $x=\\begin{pmatrix}x_0 \\\\ x_1 \\\\ ... \\\\ x_{N-1}\\end{pmatrix} \\in \\mathbb{R}^N$. \n",
    "\n",
    "Our blurring operator $B$ will do two things:\n",
    "- replace each value $x_k$ by the average of $2p+1$ values surrounding $x_k$, i.e. between $x_{k-p}$ and $x_{k+p}$.\n",
    "- compute this average not for every $x_k$ but only every $s$ values, with $s$ being a subsampling factor, $s>0$.\n",
    "\n",
    "Formally, if we denote by $y$ the output of the blurring operator on $x$, this means that\n",
    "- $y\\in\\mathbb{R}^M$, with $M=\\frac{N}{s}$ (NOTE: we will only consider the case where $N$ is a mutiple of $s$)\n",
    "- $y_m = \\frac{1}{2p+1}\\sum_{k=sm-p}^{sm+p}x_k$\n",
    "\n",
    "As you may have noticed, our summation indices in the definition of $y_m$ can be negative in some cases and bigger than $N-1$ in others. In those cases the missing value of $x_k$ is replaced by 0. This way of handling borders is often referred to as **zero-padding**, as it can be achieved by creating an extended version of $x$ with a number of leading and trailing zeros. There are other ways of handling borders, e.g. by using $x_0$ for negative indices and $x_{N-1}$ for indices greater than $N-1$, or even by mirroring the input vector.\n",
    "\n",
    "Write a function that creates the matrix $B$ that performs the operations described above.\n",
    "\n",
    "Remember that in python the `//` operator performs the integer division."
   ]
  },
  {
   "cell_type": "code",
   "execution_count": null,
   "id": "e40d4cba-1187-448d-96fb-d0033c129aaf",
   "metadata": {},
   "outputs": [],
   "source": [
    "def blur_matrix(N, p, s):\n",
    "    ret = np.zeros((N//s,N))\n",
    "    for i in range(N//s):\n",
    "        for j in range(N):\n",
    "            if abs(j-s*i)<=p:\n",
    "                ret[i][j]= 1/(2*p+1)\n",
    "    return ret\n",
    "blur_matrix\n",
    "blur_matrix(9,1,3)"
   ]
  },
  {
   "cell_type": "markdown",
   "id": "af393d26-6c86-4ff0-b8fb-2f78fae94c57",
   "metadata": {},
   "source": [
    "What is the rank of $B$ ? (row-rank might be easier to consider) "
   ]
  },
  {
   "cell_type": "markdown",
   "id": "67659a9b-5206-40da-a8ab-0f190884d901",
   "metadata": {},
   "source": [
    "## 2. Blurring the image\n",
    "\n",
    "We now have our blurring matrix ready, let us use it to blur the `camera` image.\n",
    "As $B$ is designed to operate on vectors, we will need two steps to blur the image\n",
    "- apply $B$ on each column of the input image\n",
    "- apply $B$ on each row of the column-blurred image computed above"
   ]
  },
  {
   "cell_type": "code",
   "execution_count": null,
   "id": "c167c207-66da-41a7-b536-5fc4577420e3",
   "metadata": {},
   "outputs": [],
   "source": [
    "# build the blur matrix\n",
    "B = blur_matrix(512, 8, 4)\n",
    "B.shape"
   ]
  },
  {
   "cell_type": "code",
   "execution_count": null,
   "id": "51614594-428c-4e69-9184-483190fd6b15",
   "metadata": {},
   "outputs": [],
   "source": [
    "# Blur on columns\n",
    "camera_c = B@camera\n",
    "camera_c.shape"
   ]
  },
  {
   "cell_type": "code",
   "execution_count": null,
   "id": "6f665813-4542-41f5-9c12-d176ae96a671",
   "metadata": {},
   "outputs": [],
   "source": [
    "plt.imshow(camera_c) # check the result"
   ]
  },
  {
   "cell_type": "code",
   "execution_count": null,
   "id": "42231cfd-b223-4f90-97c5-dec703aee5af",
   "metadata": {},
   "outputs": [],
   "source": [
    "# Blur on rows\n",
    "camera_blurred = B.transpose()@camera_c"
   ]
  },
  {
   "cell_type": "code",
   "execution_count": null,
   "id": "78aa4a09-ff28-4e21-83f9-2b14c6d6ad83",
   "metadata": {},
   "outputs": [],
   "source": [
    "plt.imshow(camera_blurred) # check the result"
   ]
  },
  {
   "cell_type": "markdown",
   "id": "f1ae17f7-d505-4365-8879-5a26a4d7bfa7",
   "metadata": {},
   "source": [
    "## 3. Deblurring\n",
    "Now everything is setup, we can proceed with the image restoration. \n",
    "\n",
    "Let us denote the result of a blur operation by $y=Bx$. Show that $x^* = B_R^{-1}y$, where $B_R^{-1}$ is the right-inverse of $B$, is an admissible value for $x$ to satisfy $y=Bx$."
   ]
  },
  {
   "cell_type": "markdown",
   "id": "f18ffda7-fe92-4004-9616-0709f218cb4c",
   "metadata": {},
   "source": [
    "*your answer here*"
   ]
  },
  {
   "cell_type": "markdown",
   "id": "cf20cfff-0c77-4367-8b4e-92f41c41acad",
   "metadata": {},
   "source": [
    "Compute the right inverse of the blur matrix. Reminder from the lectures: $A_R^{-1} = A^T(AA^T)^{-1}$. \n",
    "\n",
    "You can use `np.linalg.inv` to perform the inverse of a matrix."
   ]
  },
  {
   "cell_type": "code",
   "execution_count": null,
   "id": "cb07177e-ad21-4cf4-86c4-76ca125d7285",
   "metadata": {},
   "outputs": [],
   "source": [
    "BR_inv = B.T@ np.linalg.inv(B@B.T)\n"
   ]
  },
  {
   "cell_type": "markdown",
   "id": "812c7443-3492-46d2-ad99-b2c83826163b",
   "metadata": {},
   "source": [
    "Using this $x^*$, compute the reconstructed image from the blurred one (do not forget to apply it on the rows, then on the columns)"
   ]
  },
  {
   "cell_type": "code",
   "execution_count": null,
   "id": "223ff2a6-81ed-453c-8101-d55525b788d2",
   "metadata": {},
   "outputs": [],
   "source": [
    "camera_unblur_row = BR_inv.T@camera_blurred"
   ]
  },
  {
   "cell_type": "code",
   "execution_count": null,
   "id": "46aca092-afe1-458b-9926-3a7f1091d179",
   "metadata": {},
   "outputs": [],
   "source": [
    "plt.imshow(camera_unblur_row) # check the result"
   ]
  },
  {
   "cell_type": "code",
   "execution_count": null,
   "id": "f270a921-f7c3-40fd-a969-d37010ad2954",
   "metadata": {},
   "outputs": [],
   "source": [
    "camera_unblur = BR_inv@camera_unblur_row"
   ]
  },
  {
   "cell_type": "code",
   "execution_count": null,
   "id": "75296a85-053c-407c-915f-b562ba9c8acd",
   "metadata": {},
   "outputs": [],
   "source": [
    "plt.imshow(camera_unblur,cmap='gray') # check the result"
   ]
  },
  {
   "cell_type": "code",
   "execution_count": null,
   "id": "70b458fa",
   "metadata": {},
   "outputs": [],
   "source": []
  }
 ],
 "metadata": {
  "kernelspec": {
   "display_name": "Python 3 (ipykernel)",
   "language": "python",
   "name": "python3"
  },
  "language_info": {
   "codemirror_mode": {
    "name": "ipython",
    "version": 3
   },
   "file_extension": ".py",
   "mimetype": "text/x-python",
   "name": "python",
   "nbconvert_exporter": "python",
   "pygments_lexer": "ipython3",
   "version": "3.9.7"
  }
 },
 "nbformat": 4,
 "nbformat_minor": 5
}
