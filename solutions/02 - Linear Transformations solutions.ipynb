{
 "cells": [
  {
   "cell_type": "markdown",
   "id": "fd84f3e6",
   "metadata": {},
   "source": [
    "# Matrix Analysis 2022 - EE312\n",
    "\n",
    "## Week 2 - Linear transformations SOLUTION\n",
    "[LTS2](https://lts2.epfl.ch)\n",
    "\n",
    "### 1. Prove that any set of orthogonal vectors $v_i \\in \\mathbb{C}^N, \\, i=1, \\ldots , M \\leq N$ such that $v_i^H v_j = C \\delta_{i,j}$ is linearly independent (where $C$ is some constant).\n",
    "---"
   ]
  },
  {
   "cell_type": "markdown",
   "id": "ddcf524d",
   "metadata": {},
   "source": [
    "We have a set of orthogonal vectors $v_i \\in \\mathbb{C}^N,$  with $i=1, \\ldots , M \\leq N$.\\\n",
    "Therefore, $v_i^H v_j = C \\delta_{i,j} =\\left\\{\\begin{matrix}\n",
    " C,& if & i=j\\\\ \n",
    " 0,& if & i\\neq j\n",
    "\\end{matrix}\\right.$.<br/>\n",
    "\n",
    "We want to prove that the set is linearly independent, in other words that we have, with $c_{i}$ some scalar, \\\n",
    "$\\sum_{j = 1}^{N} c_{j}.v_{j} = 0 \\Leftrightarrow c_{j} = 0$.<br/><br/><br/>\n",
    "Let's start, we can write:\\\n",
    "$v_{i}^H. (\\sum_{j = 1}^{N}c_{j}.v_{j}) = v_{i}.0 = 0$<br/><br/>\n",
    "Therefore,\\\n",
    "$0 = v_{i}^H. (\\sum_{j = 1}^{N}c_{j}.v_{j}) =\\sum_{j = 1}^{N}c_{j}.v_{j}.v_{i}^H$<br/><br/>\n",
    "Yet, the set of vectors $v_i$ is orthogonal, $v_i^H v_j = C \\delta_{i,j}$. So, all the terms of the sum are equal to zero except for the one where $i=j$:<br/>\n",
    "$0 =\\sum_{j = 1}^{N}c_{j}.v_{j}.v_{i}^H = 0 + c_{i}.v_{i}.v_{i}^H = c_{i}.v_{i}.v_{i}^H$.\\\n",
    "$0 = c_{i}.v_{i}.v_{i}^H$.<br/><br/>\n",
    "Nonetheless, we know that $v_{i}$ is a non-zero vector, $v_{i}.v_{i}^H =C$. Hence, we can deduce:\\\n",
    "$0 = c_{i}.v_{i}.v_{i}^H$ *if and only if* $c_{i} = 0$<br/><br/>\n",
    "This reasonning works for all $i=1, \\ldots , M \\leq N$.<br/><br/>\n",
    "\n",
    "We can conclude that:\\\n",
    "$\\sum_{j = 1}^{N} c_{j}.v_{j} = 0 \\Leftrightarrow c_{j} = 0$.<br/>\n",
    "**The set of orthogonal vectors is linearly independent.**\n",
    "---"
   ]
  },
  {
   "cell_type": "markdown",
   "id": "4b1180bb",
   "metadata": {},
   "source": [
    "### 2. Let $v_k \\in \\mathbb{C}^N$ be such that $v_k[n] = e^{j 2 \\pi \\frac{kn}{N}}$, for $k,n = 0, \\ldots , N-1$. Prove that these vectors are mutually orthogonal, hence linearly independent.\n",
    "---"
   ]
  },
  {
   "cell_type": "markdown",
   "id": "d36ad043",
   "metadata": {},
   "source": [
    "$v_{k}$ has the form $\\begin{pmatrix}\n",
    "e^{0}\\\\ \n",
    "e^{j 2 \\pi \\frac{k}{N}}\\\\ \n",
    "...\\\\ \n",
    "e^{j 2 \\pi \\frac{kN-1}{N}}\n",
    "\\end{pmatrix}$, for $k,n = 0, \\ldots , N-1$.<br/><br/>\n",
    "\n",
    "As we mentioned in the previous question, to prove that vectors are mutually orthogonal, we need to demonstrate that $v_k^H v_l = C \\delta_{k,l}$, with $C$ some constant.<br/><br/>\n",
    "\n",
    "$v_k^H v_l = \\sum_{n = 0}^{N-1} v_{k}[n]^H .v_l[n]$,&nbsp; with $k,l,n = 0, \\ldots , N-1$. &nbsp;&nbsp;&nbsp; (simple rule of matrix multiplication)<br/><br/>\n",
    "&nbsp;&nbsp;&nbsp;&nbsp;&nbsp;&nbsp;&nbsp;&nbsp;&nbsp; $= \\sum_{n = 0}^{N-1} e^{-j2\\pi k\\frac{n}{N}}.e^{j2\\pi l\\frac{n}{N}} $<br/>\n",
    "\n",
    "&nbsp;&nbsp;&nbsp;&nbsp;&nbsp;&nbsp;&nbsp;&nbsp;&nbsp; $= \\sum_{n = 0}^{N-1} e^{j2\\pi \\frac{n}{N}(l-k)}$<br/>\n",
    "\n",
    "&nbsp;&nbsp;&nbsp;&nbsp;&nbsp;&nbsp;&nbsp;&nbsp;&nbsp; $= \\sum_{n = 0}^{N-1} e^{j2\\pi \\frac{n}{N}r}$, &nbsp;&nbsp;&nbsp;&nbsp;&nbsp;&nbsp; if we define $r=l-k$.<br/><br/>\n",
    "\n",
    "For $r \\neq 0$, we have:<br/>\n",
    "$v_k^H v_l = \\sum_{n = 0}^{N-1} e^{j2\\pi \\frac{n}{N}r} = \\sum_{n = 0}^{N-1} a^{n}$, with $a = e^{j \\frac{2\\pi r}{N}}$.\n",
    "\n",
    "$v_k^H v_l = \\sum_{n = 0}^{N-1} a^{n} = \\frac{1 - a^N}{1 - a}$. (Sum geometric serie). \n",
    "\n",
    "Let's replace $a$:\n",
    "\n",
    "$v_k^H v_l = \\frac{1 - e^{j \\frac{2\\pi r N}{N}}}{1 - e^{j \\frac{2\\pi r}{N}}} = \\frac{1 - e^{j 2\\pi r}}{1 - e^{j \\frac{2\\pi r}{N}}} = \\frac{1 - (e^{j 2\\pi})^r}{1 - e^{j \\frac{2\\pi r}{N}}} = \\frac{1 - (1)^r}{1 - e^{j \\frac{2\\pi r}{N}}} = \\frac{0}{1 - e^{j \\frac{2\\pi r}{N}}} = 0$\n",
    "In brief, $v_k^H v_l = 0$ for $k\\neq l$.<br/><br/>\n",
    "\n",
    "\n",
    "For $r = 0$, we have:<br/>\n",
    "$v_k^H v_l = \\sum_{n = 0}^{N-1} e^{j2\\pi \\frac{n}{N}r} = \\sum_{n = 0}^{N-1} e^{j2\\pi \\frac{n}{N}0} = \\sum_{n = 0}^{N-1} 1 = N$<br/><br/>\n",
    "In brief, $v_k^H v_l = N$ for $k = l$.<br/><br/>\n",
    "\n",
    "\n",
    "We can conclude with:<br/>\n",
    "$v_k \\in \\mathbb{C}^N$ such as $v_k[n] = e^{j 2 \\pi \\frac{kn}{N}}$, for $k,n = 0, \\ldots , N-1$ give us:<br/>\n",
    "$v_k^H v_l = N \\delta_{k,l}$.\n",
    "\n",
    "\n",
    "**The vectors are mutually orthogonal, hence linear independent.**\n",
    "\n",
    "From the above result we have $v_k^Hv_k = N = \\|v_k\\|^2$, and therefore $\\|v_k\\| = \\sqrt{N}$."
   ]
  },
  {
   "cell_type": "markdown",
   "id": "d823609a-1ba4-47b5-b2f2-858e0eb1ae45",
   "metadata": {},
   "source": [
    "### 3.\n",
    "---"
   ]
  },
  {
   "cell_type": "code",
   "execution_count": null,
   "id": "d238f450-48b1-4262-99b2-f0bcd3ae0dcc",
   "metadata": {},
   "outputs": [],
   "source": [
    "import numpy as np\n",
    "import matplotlib.pyplot as plt\n",
    "N = 200\n",
    "k = np.arange(0, N)\n",
    "\n",
    "m1 = 10\n",
    "m2 = 30\n",
    "w = 20\n",
    "x = np.cos(2*np.pi*w*k/N)"
   ]
  },
  {
   "cell_type": "code",
   "execution_count": null,
   "id": "bcff655e-5ea7-44e5-b1b8-91bb494046a1",
   "metadata": {},
   "outputs": [],
   "source": [
    "W = np.exp(2j*np.pi*np.outer(k, k)/N)"
   ]
  },
  {
   "cell_type": "markdown",
   "id": "a4122e8f-3fa2-468e-b588-c50f78ab28fe",
   "metadata": {},
   "source": [
    "Since all the vectors in $W$ are orthogonal together, the matrix $W$ is also orthogonal. If we compute $WW^H$, we obtain a scaled version of the identity matrix, by a factor $N$ (which is consistent with the fact that the norm of the vectors composing $W$ is $\\sqrt{N}$)."
   ]
  },
  {
   "cell_type": "code",
   "execution_count": null,
   "id": "3c04cd3d-724d-4cbf-a574-c28f02acbbe0",
   "metadata": {},
   "outputs": [],
   "source": [
    "W_inv = np.conjugate(W.T)/N"
   ]
  },
  {
   "cell_type": "code",
   "execution_count": null,
   "id": "ee5918b4-eeeb-4e48-b04d-979a4b6f714c",
   "metadata": {},
   "outputs": [],
   "source": [
    "plt.plot(np.real(W@x))"
   ]
  },
  {
   "cell_type": "code",
   "execution_count": null,
   "id": "89c717d7-b0d7-4ed0-b5a5-248dbe47abc6",
   "metadata": {},
   "outputs": [],
   "source": [
    "plt.plot(x)"
   ]
  },
  {
   "cell_type": "code",
   "execution_count": null,
   "id": "18e318a8-8d40-4149-a698-1622a3065b0a",
   "metadata": {},
   "outputs": [],
   "source": [
    "plt.plot(np.real(W_inv@(W@x)))"
   ]
  },
  {
   "cell_type": "markdown",
   "id": "295980bf-dee4-4e20-b60e-b7423aec9169",
   "metadata": {},
   "source": [
    "We see that $Wx$ is made of two peaks, and that their position varies with the frequency $w$. When increasing the frequency, the peaks get closer and closer to one another and merge when $w=N/2$.\n",
    "If the frequency goes above this value you will encounter *aliasing* (signal varies too quickly wrt. sampling frequency). Note: artefacts can be observed on the input signal when $N$ is not a multiple of $w$, this is not the same phenomenon."
   ]
  },
  {
   "cell_type": "markdown",
   "id": "815e90de-d8b1-4ef3-a446-af981aacf50c",
   "metadata": {},
   "source": [
    "### 4.\n",
    "---"
   ]
  },
  {
   "cell_type": "code",
   "execution_count": null,
   "id": "d858d506-ed0d-420c-b589-1bcf2c244234",
   "metadata": {},
   "outputs": [],
   "source": [
    "W_hat = W/np.sqrt(N)"
   ]
  },
  {
   "cell_type": "code",
   "execution_count": null,
   "id": "9f0d2303-0c10-4f4d-827f-dcb4d99f9958",
   "metadata": {},
   "outputs": [],
   "source": [
    "W_hat@np.conjugate(W_hat).T"
   ]
  },
  {
   "cell_type": "code",
   "execution_count": null,
   "id": "7ea95351-1f9f-4956-9080-fde2b9027076",
   "metadata": {},
   "outputs": [],
   "source": [
    "plt.plot(np.abs(W_hat@x))"
   ]
  },
  {
   "cell_type": "code",
   "execution_count": null,
   "id": "075a013e-5f1c-4c7a-ab91-4260167fd20b",
   "metadata": {},
   "outputs": [],
   "source": [
    "xmix = np.cos(2*np.pi*m1*k/N) + 0.5*np.sin(2*np.pi*m2*k/N)"
   ]
  },
  {
   "cell_type": "code",
   "execution_count": null,
   "id": "ecfca35f-e82a-4877-b74b-065d2d6e322b",
   "metadata": {},
   "outputs": [],
   "source": [
    "plt.plot(xmix)"
   ]
  },
  {
   "cell_type": "code",
   "execution_count": null,
   "id": "c4bdb317-5202-4360-af87-30c45c91c685",
   "metadata": {},
   "outputs": [],
   "source": [
    "X_mix = W_hat@xmix"
   ]
  },
  {
   "cell_type": "code",
   "execution_count": null,
   "id": "f3b6402f-4f41-43de-baf0-99d187849154",
   "metadata": {},
   "outputs": [],
   "source": [
    "X_mix.shape"
   ]
  },
  {
   "cell_type": "code",
   "execution_count": null,
   "id": "5f7cd38c-a6d8-4fec-befb-d0ff7c0f46be",
   "metadata": {},
   "outputs": [],
   "source": [
    "plt.plot(np.abs(X_mix))"
   ]
  },
  {
   "cell_type": "markdown",
   "id": "8a1b865d-8774-4bf6-8655-4df9104e253b",
   "metadata": {},
   "source": [
    "We can see two pair of peaks. The amplitude and the position of the leftmost ones can be used to find which frequency component they are related to. It then fairly straightforward to isolate a single frequency component with a handcrafted \"filter\" vector."
   ]
  },
  {
   "cell_type": "code",
   "execution_count": null,
   "id": "f886f723-5909-4029-b972-7b29b3d4f156",
   "metadata": {},
   "outputs": [],
   "source": [
    "filt = np.zeros(X_mix.shape)"
   ]
  },
  {
   "cell_type": "code",
   "execution_count": null,
   "id": "5346d822-74a5-45e4-be00-ce9a978e2bde",
   "metadata": {},
   "outputs": [],
   "source": [
    "filt[0:15] = np.ones((15,))"
   ]
  },
  {
   "cell_type": "code",
   "execution_count": null,
   "id": "ada63747-9dc4-4e5e-a3f0-0622549e1672",
   "metadata": {},
   "outputs": [],
   "source": [
    "filt[185:] = np.ones((15,))"
   ]
  },
  {
   "cell_type": "code",
   "execution_count": null,
   "id": "d1f5c9c7-d7f7-42f4-b249-e700b446284b",
   "metadata": {},
   "outputs": [],
   "source": [
    "X_filt = filt*X_mix"
   ]
  },
  {
   "cell_type": "code",
   "execution_count": null,
   "id": "aa2d9187-c824-4487-9d1b-c4a82ce5c7bb",
   "metadata": {},
   "outputs": [],
   "source": [
    "x_mix_single_freq = np.conjugate(W_hat.T)@X_filt"
   ]
  },
  {
   "cell_type": "code",
   "execution_count": null,
   "id": "2b4ab5c0-c62b-4a43-b171-8eff9de2d7dd",
   "metadata": {},
   "outputs": [],
   "source": [
    "plt.plot(np.real(x_mix_single_freq))"
   ]
  },
  {
   "cell_type": "code",
   "execution_count": null,
   "id": "19006fb0-aeb5-4f47-87dd-2fbdc0dc3217",
   "metadata": {},
   "outputs": [],
   "source": [
    "def filter(W, x, filt):\n",
    "    X = W@x\n",
    "    Xf = filt*X # element-wise multiplication\n",
    "     # due to numerical precision, output will be complex with negligible imaginary part -> discard it\n",
    "    return np.real(np.conjugate(W.T)@Xf)"
   ]
  },
  {
   "cell_type": "code",
   "execution_count": null,
   "id": "19259013-235c-40b0-abe1-8d88af6ac001",
   "metadata": {},
   "outputs": [],
   "source": [
    "sr = 4000 # sample rate\n",
    "T = 1.0    # seconds\n",
    "t = np.linspace(0, T, int(T*sr), endpoint=False) # time variable\n",
    "x = 0.5*np.sin(2*np.pi*440*t) + 0.25*np.cos(2*np.pi*587*t)"
   ]
  },
  {
   "cell_type": "code",
   "execution_count": null,
   "id": "0bc8c5e5-35d9-4223-844a-14fcf3dc0706",
   "metadata": {},
   "outputs": [],
   "source": [
    "N = 4000\n",
    "k = np.arange(0, N)\n",
    "W = np.exp(2j*np.pi*np.outer(k, k)/N)/np.sqrt(N)"
   ]
  },
  {
   "cell_type": "code",
   "execution_count": null,
   "id": "5c557146-50d6-431d-afe2-b46088dbae1c",
   "metadata": {},
   "outputs": [],
   "source": [
    "plt.plot(np.abs(W@x))"
   ]
  },
  {
   "cell_type": "code",
   "execution_count": null,
   "id": "ed63b1d4-7b2a-4369-85c4-6e81107e347f",
   "metadata": {},
   "outputs": [],
   "source": [
    "import IPython.display as ipd\n",
    "ipd.Audio(x, rate=sr) "
   ]
  },
  {
   "cell_type": "code",
   "execution_count": null,
   "id": "25d19589-5c34-4977-9091-ca568f4ffc46",
   "metadata": {},
   "outputs": [],
   "source": [
    "filt = np.zeros(x.shape)\n",
    "filt[500:700] = np.ones((200,))\n",
    "filt[3300:3500] = np.ones((200,))"
   ]
  },
  {
   "cell_type": "code",
   "execution_count": null,
   "id": "b644bd98-e702-4fb5-b9f0-3510fcfa9783",
   "metadata": {},
   "outputs": [],
   "source": [
    "x_sep = filter(W, x, filt)"
   ]
  },
  {
   "cell_type": "code",
   "execution_count": null,
   "id": "8b669650-f22c-43ae-b396-cfae8147bf88",
   "metadata": {},
   "outputs": [],
   "source": [
    "ipd.Audio(np.real(x_sep), rate=sr) "
   ]
  },
  {
   "cell_type": "code",
   "execution_count": null,
   "id": "857e3323-f5af-4954-a0ef-410f926546df",
   "metadata": {},
   "outputs": [],
   "source": [
    "plt.plot(np.abs(W@x_sep))"
   ]
  },
  {
   "cell_type": "code",
   "execution_count": null,
   "id": "aa424b90-71d3-4990-88a9-79971ace13c4",
   "metadata": {},
   "outputs": [],
   "source": []
  }
 ],
 "metadata": {
  "kernelspec": {
   "display_name": "Python 3 (ipykernel)",
   "language": "python",
   "name": "python3"
  },
  "language_info": {
   "codemirror_mode": {
    "name": "ipython",
    "version": 3
   },
   "file_extension": ".py",
   "mimetype": "text/x-python",
   "name": "python",
   "nbconvert_exporter": "python",
   "pygments_lexer": "ipython3",
   "version": "3.8.10"
  }
 },
 "nbformat": 4,
 "nbformat_minor": 5
}
